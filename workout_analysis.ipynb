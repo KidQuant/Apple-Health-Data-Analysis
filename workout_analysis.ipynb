{
 "cells": [
  {
   "cell_type": "code",
   "execution_count": null,
   "metadata": {},
   "outputs": [],
   "source": [
    "import xml.etree.ElementTree as ET\n",
    "import pandas as pd\n",
    "import datetime as dt\n",
    "import plotly.express as px\n",
    "import plotly.graph_objects as go\n",
    "from plotly.subplots import make_subplots\n",
    "from IPython.display import display"
   ]
  },
  {
   "cell_type": "code",
   "execution_count": null,
   "metadata": {},
   "outputs": [],
   "source": [
    "# create element tree object\n",
    "tree = ET.parse('apple_health_export/export.xml')"
   ]
  },
  {
   "cell_type": "code",
   "execution_count": null,
   "metadata": {},
   "outputs": [],
   "source": [
    "# extract the attributes of health record\n",
    "root = tree.getroot()\n",
    "record_list = [x.attrib for x in root.iter('Record')]\n",
    "record_list"
   ]
  },
  {
   "cell_type": "code",
   "execution_count": null,
   "metadata": {},
   "outputs": [],
   "source": [
    "# create a DataFrame from record_list\n",
    "record_data = pd.DataFrame(record_list)\n",
    "\n",
    "# print the information of record_data\n",
    "print(record_data.info())\n",
    "\n",
    "# show the record_data DataFrame\n",
    "display(record_data)"
   ]
  },
  {
   "cell_type": "code",
   "execution_count": null,
   "metadata": {},
   "outputs": [],
   "source": [
    "# unique elements in 'type' column of record_data\n",
    "record_data.type.unique()"
   ]
  },
  {
   "cell_type": "code",
   "execution_count": null,
   "metadata": {},
   "outputs": [],
   "source": [
    "# return recorded Active Energy Burned\n",
    "record_data.loc[(record_data[\"type\"].str.contains(\"ActiveEnergyBurned\"))]"
   ]
  },
  {
   "cell_type": "code",
   "execution_count": null,
   "metadata": {},
   "outputs": [],
   "source": [
    "# remove 'sourceName', 'sourceVersion', 'device', 'creationDate', 'endDate' columns\n",
    "record_data_cleaned = record_data.drop(\n",
    "    [\"sourceName\", \"sourceVersion\", \"device\", \"creationDate\", \"endDate\"], axis=1\n",
    ")\n",
    "\n",
    "# transform 'startDate' into date format\n",
    "record_data[\"startDate\"] = pd.to_datetime(record_data[\"startDate\"]).dt.strftime(\n",
    "    \"%Y-%m-%d\"\n",
    ")\n",
    "record_data_cleaned[\"Day\"] = pd.to_datetime(record_data[\"startDate\"]).dt.strftime(\"%A\")\n",
    "record_data_cleaned[\"Date\"] = pd.to_datetime(record_data[\"startDate\"]).dt.strftime(\n",
    "    \"%Y-%m%d\"\n",
    ")\n",
    "record_data_cleaned[\"Month\"] = pd.to_datetime(record_data[\"startDate\"]).dt.strftime(\n",
    "    \"%B\"\n",
    ")\n",
    "\n",
    "# value is numeric, NaN if fails\n",
    "record_data_cleaned[\"value\"] = pd.to_numeric(record_data[\"value\"], errors=\"coerce\")\n",
    "\n",
    "# shorter observation names\n",
    "record_data_cleaned[\"type\"] = record_data_cleaned[\"type\"].str.replace(\n",
    "    \"HKQuantityTypeIdentifier\", \"\"\n",
    ")\n",
    "record_data_cleaned[\"type\"] = record_data_cleaned[\"type\"].str.replace(\n",
    "    \"HKCategoryTypeIdentifier\", \"\"\n",
    ")\n",
    "\n",
    "# reorder 'record_data' columns\n",
    "record_data_cleaned = record_data_cleaned[\n",
    "    [\"type\", \"Date\", \"Day\", \"Month\", \"value\", \"unit\"]\n",
    "]"
   ]
  },
  {
   "cell_type": "code",
   "execution_count": null,
   "metadata": {},
   "outputs": [],
   "source": [
    "# dictionary of DataFrame for filtered 'record_data'\n",
    "record_data_df_dict = {}\n",
    "\n",
    "# filter 'type' of 'record_data'\n",
    "record_types = [\n",
    "    \"BodyMass\",\n",
    "    \"ActiveEnergyBurned\",\n",
    "    \"BasalEnergyBurned\",\n",
    "    \"DistanceWalkingRunning\",\n",
    "    \"StepCount\",\n",
    "    \"AppleStandTime\",\n",
    "    \"WalkingSpeed\",\n",
    "    \"RunningSpeed\",\n",
    "    \"HeartRateVariabilitySDNN\",\n",
    "    \"RestingHeartRate\",\n",
    "    \"WalkingHeartRate\",\n",
    "    \"WalkingHeartRateAverage\",\n",
    "    \"VO2Max\",\n",
    "    \"HeartRateRecoveryOneMinute\",\n",
    "]\n",
    "\n",
    "# create new DataFrame for every interested data\n",
    "for record_type in record_types:\n",
    "    record_data_df_dict[record_type] = (\n",
    "        record_data_cleaned.loc[(record_data_cleaned[\"type\"].str.contains(record_type))]\n",
    "        .rename(columns={\"value\": record_type})\n",
    "        .sort_values(by=\"Date\")\n",
    "    )"
   ]
  },
  {
   "cell_type": "code",
   "execution_count": 11,
   "metadata": {},
   "outputs": [],
   "source": [
    "# list of data 'type' that need to be summed daily\n",
    "key_get_sum = [\n",
    "    \"BasalEnergyBurned\",\n",
    "    \"ActiveEnergyBurned\",\n",
    "    \"DistanceWalkingRunning\",\n",
    "    \"StepCount\",\n",
    "    \"AppleStandTime\",\n",
    "]\n",
    "\n",
    "record_data_df_dict_daily = {}\n",
    "for key in key_get_sum:\n",
    "    record_data_df_dict_daily[key] = (\n",
    "        record_data_df_dict[key]\n",
    "        .groupby(record_data_df_dict[key][\"Date\"])\n",
    "        .agg({key: \"sum\", \"Day\": lambda x: x.mode().iat[0]})\n",
    "        .reset_index()\n",
    "    )"
   ]
  },
  {
   "cell_type": "code",
   "execution_count": 12,
   "metadata": {},
   "outputs": [],
   "source": [
    "record_data_df_dict_monthly = {}\n",
    "for key in key_get_sum:\n",
    "    record_data_df_dict_monthly[key] = record_data_df_dict[key].groupby(record_data_df_dict[key]['Date'].str[:-3]).agg({key: 'sum', 'Month': lambda x: x.mode().iat[0]}).reset_index()"
   ]
  },
  {
   "cell_type": "code",
   "execution_count": null,
   "metadata": {},
   "outputs": [],
   "source": [
    "# list of data 'type' that need to be summed daily\n",
    "key_get_sum = [\n",
    "    'BasalEnergyBurned',\n",
    "    'ActiveEnergyBurned',\n",
    "    'DistanceWalkingRunning',\n",
    "    'StepCount',\n",
    "    'AppleStandTime'\n",
    "]\n",
    "\n",
    "record_data_df_dict_daily = {}\n",
    "for key in key_get_sum:\n",
    "    record_data_df_dict_daily[key] = record_data_df_dict[key].groupby(record_data_df_dict[key]['Date']).agg({key: 'sum', 'Day':lambda x: x.mode().iat[0]}).reset_index()"
   ]
  },
  {
   "cell_type": "code",
   "execution_count": null,
   "metadata": {},
   "outputs": [],
   "source": [
    "record_data_df_dict_monthly ={}\n",
    "for key in key_get_sum:\n",
    "    record_data_df_dict_monthly[key] = record_data_df_dict[key].groupby(record_data_df_dict[key]['Date'].str[:-3]).agg({key: 'sum', 'Month': lambda x: x.mode().iat[0]}).reset_index()"
   ]
  },
  {
   "cell_type": "code",
   "execution_count": null,
   "metadata": {},
   "outputs": [],
   "source": [
    "# Before vs After Workout\n",
    "# Workout routine starts from 1 September 2022 -> data filter after workout are specified starts on this date\n",
    "\n",
    "# Body mass progress before and after Workout\n",
    "record_data_df_BodyMass_start_Sep22 = record_data_df_dict['BodyMass'].loc[(record_data_df_dict['BodyMass']['Date'] >= '2023-09-01')]\n",
    "\n",
    "# Active Energy Burned before and after workout routine\n",
    "record_data_df_ActiveEnergyBurned_before_workout = record_data_df_dict_monthly[\"ActiveEnergyBurned\"].loc[(record_data_df_dict_monthly[\"ActiveEnergyBurned\"]['Date'] < '2022-08-31')]\n",
    "record_data_df_ActiveEnergyBurned_after_workout = record_data_df_dict_monthly[\"ActiveEnergyBurned\"].loc[(record_data_df_dict_monthly[\"ActiveEnergyBurned\"]['Date'] >= '2022-08-31')]\n",
    "\n",
    "# Basal Energy Burned before and after workout routine\n",
    "record_data_df_BasalEnergyBurned_before_workout = record_data_df_dict_monthly[\"BasalEnergyBurned\"].loc[(record_data_df_dict_monthly[\"BasalEnergyBurned\"]['Date'] < '2022-08-31')]\n",
    "record_data_df_BasalEnergyBurned_after_workout = record_data_df_dict_monthly[\"BasalEnergyBurned\"].loc[(record_data_df_dict_monthly[\"BasalEnergyBurned\"]['Date'] >= '2022-08-31')]\n",
    "# Distance Walking-Running before and after workout routine\n",
    "record_data_df_Distance_before_workout = record_data_df_dict_monthly[\"DistanceWalkingRunning\"].loc[(record_data_df_dict_monthly[\"DistanceWalkingRunning\"]['Date'] < '2022-08-31')]\n",
    "record_data_df_Distance_after_workout = record_data_df_dict_monthly[\"DistanceWalkingRunning\"].loc[(record_data_df_dict_monthly[\"DistanceWalkingRunning\"]['Date'] >= '2022-08-31')]\n",
    "# Step count before and after workout routine\n",
    "record_data_df_StepCount_before_workout = record_data_df_dict_monthly[\"StepCount\"].loc[(record_data_df_dict_monthly[\"StepCount\"]['Date'] < '2022-08-31')]\n",
    "record_data_df_StepCount_after_workout = record_data_df_dict_monthly[\"StepCount\"].loc[(record_data_df_dict_monthly[\"StepCount\"]['Date'] >= '2022-08-31')]"
   ]
  },
  {
   "cell_type": "code",
   "execution_count": null,
   "metadata": {},
   "outputs": [],
   "source": []
  }
 ],
 "metadata": {
  "kernelspec": {
   "display_name": "health",
   "language": "python",
   "name": "python3"
  },
  "language_info": {
   "codemirror_mode": {
    "name": "ipython",
    "version": 3
   },
   "file_extension": ".py",
   "mimetype": "text/x-python",
   "name": "python",
   "nbconvert_exporter": "python",
   "pygments_lexer": "ipython3",
   "version": "3.12.4"
  }
 },
 "nbformat": 4,
 "nbformat_minor": 2
}
